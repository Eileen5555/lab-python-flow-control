{
 "cells": [
  {
   "cell_type": "markdown",
   "id": "d3bfc191-8885-42ee-b0a0-bbab867c6f9f",
   "metadata": {
    "tags": []
   },
   "source": [
    "# Lab | Flow Control"
   ]
  },
  {
   "cell_type": "markdown",
   "id": "3851fcd1-cf98-4653-9c89-e003b7ec9400",
   "metadata": {},
   "source": [
    "## Exercise: Managing Customer Orders Optimized\n",
    "\n",
    "In the last lab, you were starting an online store that sells various products. To ensure smooth operations, you developed a program that manages customer orders and inventory.\n",
    "\n",
    "You did so without using flow control. Let's go a step further and improve this code.\n",
    "\n",
    "Follow the steps below to complete the exercise:\n",
    "\n",
    "1. Look at your code from the lab data structures, and improve repeated code with loops.\n",
    "\n",
    "2. Instead of asking the user to input the name of three products that a customer wants to order, do the following:\n",
    "    \n",
    "    a. Prompt the user to enter the name of a product that a customer wants to order.\n",
    "    \n",
    "    b. Add the product name to the \"customer_orders\" set.\n",
    "    \n",
    "    c. Ask the user if they want to add another product (yes/no).\n",
    "    \n",
    "    d. Continue the loop until the user does not want to add another product.\n",
    "\n",
    "3. Instead of updating the inventory by subtracting 1 from the quantity of each product, only do it for  the products that were ordered (those in \"customer_orders\")."
   ]
  },
  {
   "cell_type": "code",
   "execution_count": 1,
   "id": "73da2570-cfba-4535-bbd5-4e9e42ecaff2",
   "metadata": {},
   "outputs": [
    {
     "name": "stdin",
     "output_type": "stream",
     "text": [
      "Enter quantity for t-shirt:  10\n",
      "Enter quantity for mug:  44\n",
      "Enter quantity for hat:  15\n",
      "Enter quantity for book:  3\n",
      "Enter quantity for keychain:  8\n"
     ]
    },
    {
     "name": "stdout",
     "output_type": "stream",
     "text": [
      "Inventory: {'t-shirt': 10, 'mug': 44, 'hat': 15, 'book': 3, 'keychain': 8}\n"
     ]
    }
   ],
   "source": [
    "products = [\"t-shirt\", \"mug\", \"hat\", \"book\", \"keychain\"]\n",
    "inventory = {}\n",
    "for product in products: \n",
    "    quantity = int(input(\"Enter quantity for \" + product + \": \"))\n",
    "    inventory[product] = quantity\n",
    "    \n",
    "print(\"Inventory:\",inventory)"
   ]
  },
  {
   "cell_type": "code",
   "execution_count": 18,
   "id": "35269d88-9847-4320-9da3-116afe944e55",
   "metadata": {},
   "outputs": [
    {
     "name": "stdin",
     "output_type": "stream",
     "text": [
      "Enter the name of a product you want to order:  mug\n",
      "Do you want to order another product? (yes/no):  no\n"
     ]
    },
    {
     "name": "stdout",
     "output_type": "stream",
     "text": [
      "Thank you for your order\n",
      "Customer orders: {'mug'}\n"
     ]
    }
   ],
   "source": [
    "products = [\"t-shirt\", \"mug\", \"hat\", \"book\", \"keychain\"]\n",
    "customer_orders = set()\n",
    "\n",
    "while True:\n",
    "    product = input(\"Enter the name of a product you want to order: \").strip().lower()\n",
    "    while product not in products:\n",
    "        print(\"Invalid product! Please choose from:\", products)\n",
    "        product = input(\"Enter the name of a product you want to order: \").strip().lower()\n",
    "    customer_orders.add(product)\n",
    "    \n",
    "    add = input(\"Do you want to order another product? (yes/no): \").strip().lower()\n",
    "    while add not in [\"yes\", \"no\"]:\n",
    "        print(\"Invalid input! Please answer 'yes' or 'no'.\")\n",
    "        add = input(\"Do you want to order another product? (yes/no): \").strip().lower()\n",
    "    \n",
    "    if add == \"no\":\n",
    "        print(\"Thank you for your order\")\n",
    "        break\n",
    "\n",
    "print(\"Customer orders:\", customer_orders)"
   ]
  },
  {
   "cell_type": "code",
   "execution_count": 23,
   "id": "03518cad-6967-41eb-9695-576830d7239d",
   "metadata": {},
   "outputs": [
    {
     "name": "stdout",
     "output_type": "stream",
     "text": [
      "Order Statistics:\n",
      "Total Products Ordered: 1\n",
      "Percentage of Products Ordered:  20.0 %\n",
      "\n",
      "Updated Inventory: {'t-shirt': 9, 'mug': 42, 'hat': 14, 'book': 3, 'keychain': 8}\n"
     ]
    }
   ],
   "source": [
    "total_products_ordered = len(customer_orders)\n",
    "percentage_ordered = (total_products_ordered / len(products)) * 100\n",
    "\n",
    "order_status = (total_products_ordered, percentage_ordered)\n",
    "\n",
    "print(\"Order Statistics:\")\n",
    "print(\"Total Products Ordered:\", total_products_ordered)\n",
    "print(\"Percentage of Products Ordered: \",percentage_ordered, \"%\")\n",
    "\n",
    "for product in customer_orders:\n",
    "    if product in inventory:\n",
    "        inventory[product] -= 1\n",
    "\n",
    "print(\"\\nUpdated Inventory:\", inventory)\n",
    "\n"
   ]
  },
  {
   "cell_type": "code",
   "execution_count": null,
   "id": "ed44f3cc-38d5-496c-a509-12321e409747",
   "metadata": {},
   "outputs": [],
   "source": []
  }
 ],
 "metadata": {
  "kernelspec": {
   "display_name": "Python 3 (ipykernel)",
   "language": "python",
   "name": "python3"
  },
  "language_info": {
   "codemirror_mode": {
    "name": "ipython",
    "version": 3
   },
   "file_extension": ".py",
   "mimetype": "text/x-python",
   "name": "python",
   "nbconvert_exporter": "python",
   "pygments_lexer": "ipython3",
   "version": "3.11.7"
  }
 },
 "nbformat": 4,
 "nbformat_minor": 5
}
